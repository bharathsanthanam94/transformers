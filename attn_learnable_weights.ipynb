{
 "cells": [
  {
   "cell_type": "code",
   "execution_count": 1,
   "metadata": {},
   "outputs": [],
   "source": [
    "import torch\n",
    "\n",
    "inputs = torch.tensor(\n",
    "    [\n",
    "        [0.43, 0.15, 0.89],  # Your     (x^1)\n",
    "        [0.55, 0.87, 0.66],  # journey  (x^2)\n",
    "        [0.57, 0.85, 0.64],  # starts   (x^3)\n",
    "        [0.22, 0.58, 0.33],  # with     (x^4)\n",
    "        [0.77, 0.25, 0.10],  # one      (x^5)\n",
    "        [0.05, 0.80, 0.55],\n",
    "    ]  # step     (x^6)\n",
    ")"
   ]
  },
  {
   "cell_type": "code",
   "execution_count": 15,
   "metadata": {},
   "outputs": [
    {
     "name": "stdout",
     "output_type": "stream",
     "text": [
      "tensor([[0.6472, 1.0750],\n",
      "        [0.6661, 1.1112],\n",
      "        [0.6652, 1.1094],\n",
      "        [0.6479, 1.0759],\n",
      "        [0.6359, 1.0530],\n",
      "        [0.6585, 1.0963]], grad_fn=<MmBackward0>)\n"
     ]
    }
   ],
   "source": [
    "# Use query ,key and value vectors instead of the input vectors directly to compute the attention scores.\n",
    "# Everything else looks the same as the previous example with simple attention\n",
    "\n",
    "import torch.nn as nn\n",
    "\n",
    "\n",
    "class SelfAttention_v1(nn.Module):\n",
    "    def __init__(self, d_in, d_out):\n",
    "        super().__init__()\n",
    "        self.d_out = d_out\n",
    "        # initialize the weight matrices\n",
    "        self.W_query = nn.Parameter(torch.rand(d_in, d_out))\n",
    "        self.W_key = nn.Parameter(torch.rand(d_in, d_out))\n",
    "        self.W_value = nn.Parameter(torch.rand(d_in, d_out))\n",
    "\n",
    "    def forward(self, x):\n",
    "        # compute query, key and value vectors\n",
    "        keys = x @ self.W_key  # multiply 6X3 with 3x2 matrices\n",
    "        queries = x @ self.W_query\n",
    "        values = x @ self.W_value\n",
    "\n",
    "        # compute attention scores\n",
    "        attention_scores = queries @ keys.T\n",
    "\n",
    "        # compute scaled dot product attention\n",
    "        attention_weights = torch.softmax(\n",
    "            attention_scores / keys.shape[-1] ** 0.5, dim=-1\n",
    "        )\n",
    "\n",
    "        # compute context vectors\n",
    "        context_vectors = attention_weights @ values\n",
    "        return context_vectors\n",
    "\n",
    "\n",
    "# create an instance of the SelfAttention_v1 class\n",
    "d_in = 3\n",
    "d_out = 2\n",
    "attention = SelfAttention_v1(d_in, d_out)\n",
    "context_vectors = attention(inputs)\n",
    "print(context_vectors)"
   ]
  },
  {
   "cell_type": "code",
   "execution_count": 16,
   "metadata": {},
   "outputs": [
    {
     "name": "stdout",
     "output_type": "stream",
     "text": [
      "tensor([[0.7829, 0.8520],\n",
      "        [0.8152, 0.8843],\n",
      "        [0.8142, 0.8831],\n",
      "        [0.7841, 0.8552],\n",
      "        [0.7744, 0.8429],\n",
      "        [0.7970, 0.8686]], grad_fn=<MmBackward0>)\n"
     ]
    }
   ],
   "source": [
    "import torch.nn as nn\n",
    "\n",
    "\n",
    "# using nn.Linear() as way to define the weight matrices\n",
    "class SelfAttention_v2(nn.Module):\n",
    "    def __init__(self, d_in, d_out, qkv_bias=False):\n",
    "        super().__init__()\n",
    "        self.d_out = d_out\n",
    "        # initialize the weight matrices\n",
    "        self.W_query = nn.Linear(d_in, d_out, qkv_bias=qkv_bias)\n",
    "        self.W_key = nn.Linear(d_in, d_out, qkv_bias=qkv_bias)\n",
    "        self.W_value = nn.Linear(d_in, d_out, qkv_bias=qkv_bias)\n",
    "\n",
    "    def forward(self, x):\n",
    "        # compute query, key and value vectors\n",
    "        keys = x @ self.W_key  # multiply 6X3 with 3x2 matrices\n",
    "        queries = x @ self.W_query\n",
    "        values = x @ self.W_value\n",
    "\n",
    "        # compute attention scores\n",
    "        attention_scores = queries @ keys.T\n",
    "\n",
    "        # compute scaled dot product attention\n",
    "        attention_weights = torch.softmax(\n",
    "            attention_scores / keys.shape[-1] ** 0.5, dim=-1\n",
    "        )\n",
    "\n",
    "        # compute context vectors\n",
    "        context_vectors = attention_weights @ values\n",
    "        return context_vectors\n",
    "\n",
    "\n",
    "# create an instance of the SelfAttention_v1 class\n",
    "d_in = 3\n",
    "d_out = 2\n",
    "attention = SelfAttention_v1(d_in, d_out)\n",
    "context_vectors = attention(inputs)\n",
    "print(context_vectors)"
   ]
  },
  {
   "cell_type": "code",
   "execution_count": null,
   "metadata": {},
   "outputs": [],
   "source": []
  }
 ],
 "metadata": {
  "kernelspec": {
   "display_name": "mesh_transformer2",
   "language": "python",
   "name": "python3"
  },
  "language_info": {
   "codemirror_mode": {
    "name": "ipython",
    "version": 3
   },
   "file_extension": ".py",
   "mimetype": "text/x-python",
   "name": "python",
   "nbconvert_exporter": "python",
   "pygments_lexer": "ipython3",
   "version": "3.8.16"
  }
 },
 "nbformat": 4,
 "nbformat_minor": 2
}
